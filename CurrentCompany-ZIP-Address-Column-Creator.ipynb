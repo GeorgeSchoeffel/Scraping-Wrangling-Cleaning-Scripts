{
 "cells": [
  {
   "cell_type": "code",
   "execution_count": null,
   "metadata": {},
   "outputs": [],
   "source": [
    "import pandas as pd"
   ]
  },
  {
   "cell_type": "code",
   "execution_count": null,
   "metadata": {},
   "outputs": [],
   "source": [
    "#Load our data in and set columns to 60 to see all columns\n",
    "texas = pd.read_excel('DCISPROVIDERS_CA_gs0410.xls')\n",
    "pd.set_option('display.max_columns', 60)\n",
    "texas.head(5)"
   ]
  },
  {
   "cell_type": "code",
   "execution_count": null,
   "metadata": {},
   "outputs": [],
   "source": [
    "texas = pd.read_excel('DCISPROVIDERS_CA_gs0410.xls')\n",
    "\n",
    "#Design an object containing data from the yearclm column\n",
    "comp = texas['YEARCLM']\n",
    "\n",
    "#Create an empty dataset\n",
    "company = []\n",
    "\n",
    "#Create an index and set it equal to 0\n",
    "i = 0\n",
    "\n",
    "#Create a loop\n",
    "for row in texas['YEARCLM']:\n",
    "    #Test if the year value is less than 2007\n",
    "    if row <= 2007:\n",
    "        #If so append it into our data and add one to our index\n",
    "        company.append(texas.iloc[i]['COMPANY07'])\n",
    "        i = i + 1\n",
    "    elif 2007 < row <= 2009:\n",
    "        company.append(texas.iloc[i]['COMPANY09'])\n",
    "        i = i + 1\n",
    "    elif 2009 < row <= 2011:\n",
    "        company.append(texas.iloc[i]['COMPANY11'])\n",
    "        i = i + 1\n",
    "    elif 2011 < row <= 2020:\n",
    "        company.append(texas.iloc[i]['COMPANY13'])\n",
    "        i = i + 1\n",
    "\n",
    "#Append our new list back into our dataframe\n",
    "texas['CurrentCompany'] = company\n",
    "texas.head(15)"
   ]
  },
  {
   "cell_type": "code",
   "execution_count": null,
   "metadata": {},
   "outputs": [],
   "source": [
    "#Do the same for zip code\n",
    "\n",
    "zipcode = []\n",
    "\n",
    "i = 0\n",
    "for j in texas['YEARCLM']:\n",
    "    if j <= 2007:\n",
    "        zipcode.append(texas.iloc[i]['ZIP07'])\n",
    "        i = i + 1\n",
    "    elif 2007 < j <= 2009:\n",
    "        zipcode.append(texas.iloc[i]['ZIP09'])\n",
    "        i = i + 1\n",
    "    elif 2009 < j <= 2011:\n",
    "        zipcode.append(texas.iloc[i]['ZIP11'])\n",
    "        i = i + 1\n",
    "    elif 2011 < j <= 2020:\n",
    "        zipcode.append(texas.iloc[i]['ZIP13'])\n",
    "        i = i + 1\n",
    "texas['CurrentZIP'] = zipcode\n",
    "pd.set_option('display.max_columns', 160)\n",
    "texas.head(15)"
   ]
  },
  {
   "cell_type": "code",
   "execution_count": null,
   "metadata": {},
   "outputs": [],
   "source": [
    "#Do the same for current address\n",
    "\n",
    "currentaddress = []\n",
    "\n",
    "i = 0\n",
    "for k in texas['YEARCLM']:\n",
    "    if k <= 2007:\n",
    "        currentaddress.append(texas.iloc[i]['ADDRESS07'])\n",
    "        i = i + 1\n",
    "    elif 2007 < k <= 2009:\n",
    "        currentaddress.append(texas.iloc[i]['ADDRESS09'])\n",
    "        i = i + 1\n",
    "    elif 2009 < k <= 2011:\n",
    "        currentaddress.append(texas.iloc[i]['ADDRESS11'])\n",
    "        i = i + 1\n",
    "    elif 2011 < k <= 2020:\n",
    "        currentaddress.append(texas.iloc[i]['ADDRESS13'])\n",
    "        i = i + 1\n",
    "texas['CurrentAddress'] = currentaddress\n",
    "texas.head(15)"
   ]
  },
  {
   "cell_type": "code",
   "execution_count": null,
   "metadata": {},
   "outputs": [],
   "source": [
    "#Write to excel\n",
    "texas.to_excel('DCISPROVIDERS_CA_gs0410_new.xls')"
   ]
  }
 ],
 "metadata": {
  "kernelspec": {
   "display_name": "Python 3",
   "language": "python",
   "name": "python3"
  },
  "language_info": {
   "codemirror_mode": {
    "name": "ipython",
    "version": 3
   },
   "file_extension": ".py",
   "mimetype": "text/x-python",
   "name": "python",
   "nbconvert_exporter": "python",
   "pygments_lexer": "ipython3",
   "version": "3.6.5"
  }
 },
 "nbformat": 4,
 "nbformat_minor": 2
}
